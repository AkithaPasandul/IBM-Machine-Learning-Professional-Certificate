{
  "nbformat": 4,
  "nbformat_minor": 0,
  "metadata": {
    "colab": {
      "provenance": []
    },
    "kernelspec": {
      "name": "python3",
      "display_name": "Python 3"
    },
    "language_info": {
      "name": "python"
    }
  },
  "cells": [
    {
      "cell_type": "markdown",
      "source": [
        "# **Final Project: Electronic sales**"
      ],
      "metadata": {
        "id": "GAwpq5UPSai0"
      }
    },
    {
      "cell_type": "markdown",
      "source": [
        "The dataset contains 20,000 records of electronic sales from September 2023 to September 2024.It includes 16 attributes related to customer purchases, demographics, product details, pricing and order fulfillment."
      ],
      "metadata": {
        "id": "LTH0LLnBTFCV"
      }
    },
    {
      "cell_type": "markdown",
      "source": [
        "Key Attributes:\n",
        "\n",
        "*    Customer ID: Unique identifier for customers.\n",
        "*    Age: Age of the customer.\n",
        "*    Gender: Gender of the customer.\n",
        "*   Loyalty Member: Indicates whether the customer is a member.\n",
        "*   Product Type: Category of electronic items purchased.\n",
        "*    SKU: Unique product identifier.\n",
        "*    Rating: Customer rating of the product.\n",
        "*    Order Status: Order completion status.\n",
        "*    Payment Method: Payment type used.\n",
        "*    Total Price: Final transaction amount.\n",
        "*    Unit Price: Price per item.\n",
        "*    Quantity: Number of items purchased.\n",
        "*    Purchase Date: Date of the transaction.\n",
        "*    Shipping Type: Delivery method.\n",
        "*    Add-ons Purchased: Additional items bought.\n",
        "*    Add-on Total: Cost of add-ons.\n",
        "\n",
        "\n"
      ],
      "metadata": {
        "id": "nuNnOD9ZTVIO"
      }
    },
    {
      "cell_type": "code",
      "execution_count": 27,
      "metadata": {
        "id": "Mo12qwweSYaG"
      },
      "outputs": [],
      "source": [
        "import pandas as pd"
      ]
    },
    {
      "cell_type": "code",
      "source": [
        "df = pd.read_csv('/content/Electronic_sales_Sep2023-Sep2024.csv')\n",
        "df.head()"
      ],
      "metadata": {
        "colab": {
          "base_uri": "https://localhost:8080/",
          "height": 206
        },
        "id": "yVVDyEquUThC",
        "outputId": "2ebdcd48-5f9c-4257-e7ce-0c254c8d607a"
      },
      "execution_count": 28,
      "outputs": [
        {
          "output_type": "execute_result",
          "data": {
            "text/plain": [
              "   Customer ID  Age Gender Loyalty Member Product Type      SKU  Rating  \\\n",
              "0         1000   53   Male             No   Smartphone  SKU1004       2   \n",
              "1         1000   53   Male             No       Tablet  SKU1002       3   \n",
              "2         1002   41   Male             No       Laptop  SKU1005       3   \n",
              "3         1002   41   Male            Yes   Smartphone  SKU1004       2   \n",
              "4         1003   75   Male            Yes   Smartphone  SKU1001       5   \n",
              "\n",
              "  Order Status Payment Method  Total Price  Unit Price  Quantity  \\\n",
              "0    Cancelled    Credit Card      5538.33      791.19         7   \n",
              "1    Completed         Paypal       741.09      247.03         3   \n",
              "2    Completed    Credit Card      1855.84      463.96         4   \n",
              "3    Completed           Cash      3164.76      791.19         4   \n",
              "4    Completed           Cash        41.50       20.75         2   \n",
              "\n",
              "  Purchase Date Shipping Type              Add-ons Purchased  Add-on Total  \n",
              "0    2024-03-20      Standard  Accessory,Accessory,Accessory         40.21  \n",
              "1    2024-04-20     Overnight                   Impulse Item         26.09  \n",
              "2    2023-10-17       Express                            NaN          0.00  \n",
              "3    2024-08-09     Overnight      Impulse Item,Impulse Item         60.16  \n",
              "4    2024-05-21       Express                      Accessory         35.56  "
            ],
            "text/html": [
              "\n",
              "  <div id=\"df-5cc8a9b9-ff07-496f-a09f-07c9e51f8e35\" class=\"colab-df-container\">\n",
              "    <div>\n",
              "<style scoped>\n",
              "    .dataframe tbody tr th:only-of-type {\n",
              "        vertical-align: middle;\n",
              "    }\n",
              "\n",
              "    .dataframe tbody tr th {\n",
              "        vertical-align: top;\n",
              "    }\n",
              "\n",
              "    .dataframe thead th {\n",
              "        text-align: right;\n",
              "    }\n",
              "</style>\n",
              "<table border=\"1\" class=\"dataframe\">\n",
              "  <thead>\n",
              "    <tr style=\"text-align: right;\">\n",
              "      <th></th>\n",
              "      <th>Customer ID</th>\n",
              "      <th>Age</th>\n",
              "      <th>Gender</th>\n",
              "      <th>Loyalty Member</th>\n",
              "      <th>Product Type</th>\n",
              "      <th>SKU</th>\n",
              "      <th>Rating</th>\n",
              "      <th>Order Status</th>\n",
              "      <th>Payment Method</th>\n",
              "      <th>Total Price</th>\n",
              "      <th>Unit Price</th>\n",
              "      <th>Quantity</th>\n",
              "      <th>Purchase Date</th>\n",
              "      <th>Shipping Type</th>\n",
              "      <th>Add-ons Purchased</th>\n",
              "      <th>Add-on Total</th>\n",
              "    </tr>\n",
              "  </thead>\n",
              "  <tbody>\n",
              "    <tr>\n",
              "      <th>0</th>\n",
              "      <td>1000</td>\n",
              "      <td>53</td>\n",
              "      <td>Male</td>\n",
              "      <td>No</td>\n",
              "      <td>Smartphone</td>\n",
              "      <td>SKU1004</td>\n",
              "      <td>2</td>\n",
              "      <td>Cancelled</td>\n",
              "      <td>Credit Card</td>\n",
              "      <td>5538.33</td>\n",
              "      <td>791.19</td>\n",
              "      <td>7</td>\n",
              "      <td>2024-03-20</td>\n",
              "      <td>Standard</td>\n",
              "      <td>Accessory,Accessory,Accessory</td>\n",
              "      <td>40.21</td>\n",
              "    </tr>\n",
              "    <tr>\n",
              "      <th>1</th>\n",
              "      <td>1000</td>\n",
              "      <td>53</td>\n",
              "      <td>Male</td>\n",
              "      <td>No</td>\n",
              "      <td>Tablet</td>\n",
              "      <td>SKU1002</td>\n",
              "      <td>3</td>\n",
              "      <td>Completed</td>\n",
              "      <td>Paypal</td>\n",
              "      <td>741.09</td>\n",
              "      <td>247.03</td>\n",
              "      <td>3</td>\n",
              "      <td>2024-04-20</td>\n",
              "      <td>Overnight</td>\n",
              "      <td>Impulse Item</td>\n",
              "      <td>26.09</td>\n",
              "    </tr>\n",
              "    <tr>\n",
              "      <th>2</th>\n",
              "      <td>1002</td>\n",
              "      <td>41</td>\n",
              "      <td>Male</td>\n",
              "      <td>No</td>\n",
              "      <td>Laptop</td>\n",
              "      <td>SKU1005</td>\n",
              "      <td>3</td>\n",
              "      <td>Completed</td>\n",
              "      <td>Credit Card</td>\n",
              "      <td>1855.84</td>\n",
              "      <td>463.96</td>\n",
              "      <td>4</td>\n",
              "      <td>2023-10-17</td>\n",
              "      <td>Express</td>\n",
              "      <td>NaN</td>\n",
              "      <td>0.00</td>\n",
              "    </tr>\n",
              "    <tr>\n",
              "      <th>3</th>\n",
              "      <td>1002</td>\n",
              "      <td>41</td>\n",
              "      <td>Male</td>\n",
              "      <td>Yes</td>\n",
              "      <td>Smartphone</td>\n",
              "      <td>SKU1004</td>\n",
              "      <td>2</td>\n",
              "      <td>Completed</td>\n",
              "      <td>Cash</td>\n",
              "      <td>3164.76</td>\n",
              "      <td>791.19</td>\n",
              "      <td>4</td>\n",
              "      <td>2024-08-09</td>\n",
              "      <td>Overnight</td>\n",
              "      <td>Impulse Item,Impulse Item</td>\n",
              "      <td>60.16</td>\n",
              "    </tr>\n",
              "    <tr>\n",
              "      <th>4</th>\n",
              "      <td>1003</td>\n",
              "      <td>75</td>\n",
              "      <td>Male</td>\n",
              "      <td>Yes</td>\n",
              "      <td>Smartphone</td>\n",
              "      <td>SKU1001</td>\n",
              "      <td>5</td>\n",
              "      <td>Completed</td>\n",
              "      <td>Cash</td>\n",
              "      <td>41.50</td>\n",
              "      <td>20.75</td>\n",
              "      <td>2</td>\n",
              "      <td>2024-05-21</td>\n",
              "      <td>Express</td>\n",
              "      <td>Accessory</td>\n",
              "      <td>35.56</td>\n",
              "    </tr>\n",
              "  </tbody>\n",
              "</table>\n",
              "</div>\n",
              "    <div class=\"colab-df-buttons\">\n",
              "\n",
              "  <div class=\"colab-df-container\">\n",
              "    <button class=\"colab-df-convert\" onclick=\"convertToInteractive('df-5cc8a9b9-ff07-496f-a09f-07c9e51f8e35')\"\n",
              "            title=\"Convert this dataframe to an interactive table.\"\n",
              "            style=\"display:none;\">\n",
              "\n",
              "  <svg xmlns=\"http://www.w3.org/2000/svg\" height=\"24px\" viewBox=\"0 -960 960 960\">\n",
              "    <path d=\"M120-120v-720h720v720H120Zm60-500h600v-160H180v160Zm220 220h160v-160H400v160Zm0 220h160v-160H400v160ZM180-400h160v-160H180v160Zm440 0h160v-160H620v160ZM180-180h160v-160H180v160Zm440 0h160v-160H620v160Z\"/>\n",
              "  </svg>\n",
              "    </button>\n",
              "\n",
              "  <style>\n",
              "    .colab-df-container {\n",
              "      display:flex;\n",
              "      gap: 12px;\n",
              "    }\n",
              "\n",
              "    .colab-df-convert {\n",
              "      background-color: #E8F0FE;\n",
              "      border: none;\n",
              "      border-radius: 50%;\n",
              "      cursor: pointer;\n",
              "      display: none;\n",
              "      fill: #1967D2;\n",
              "      height: 32px;\n",
              "      padding: 0 0 0 0;\n",
              "      width: 32px;\n",
              "    }\n",
              "\n",
              "    .colab-df-convert:hover {\n",
              "      background-color: #E2EBFA;\n",
              "      box-shadow: 0px 1px 2px rgba(60, 64, 67, 0.3), 0px 1px 3px 1px rgba(60, 64, 67, 0.15);\n",
              "      fill: #174EA6;\n",
              "    }\n",
              "\n",
              "    .colab-df-buttons div {\n",
              "      margin-bottom: 4px;\n",
              "    }\n",
              "\n",
              "    [theme=dark] .colab-df-convert {\n",
              "      background-color: #3B4455;\n",
              "      fill: #D2E3FC;\n",
              "    }\n",
              "\n",
              "    [theme=dark] .colab-df-convert:hover {\n",
              "      background-color: #434B5C;\n",
              "      box-shadow: 0px 1px 3px 1px rgba(0, 0, 0, 0.15);\n",
              "      filter: drop-shadow(0px 1px 2px rgba(0, 0, 0, 0.3));\n",
              "      fill: #FFFFFF;\n",
              "    }\n",
              "  </style>\n",
              "\n",
              "    <script>\n",
              "      const buttonEl =\n",
              "        document.querySelector('#df-5cc8a9b9-ff07-496f-a09f-07c9e51f8e35 button.colab-df-convert');\n",
              "      buttonEl.style.display =\n",
              "        google.colab.kernel.accessAllowed ? 'block' : 'none';\n",
              "\n",
              "      async function convertToInteractive(key) {\n",
              "        const element = document.querySelector('#df-5cc8a9b9-ff07-496f-a09f-07c9e51f8e35');\n",
              "        const dataTable =\n",
              "          await google.colab.kernel.invokeFunction('convertToInteractive',\n",
              "                                                    [key], {});\n",
              "        if (!dataTable) return;\n",
              "\n",
              "        const docLinkHtml = 'Like what you see? Visit the ' +\n",
              "          '<a target=\"_blank\" href=https://colab.research.google.com/notebooks/data_table.ipynb>data table notebook</a>'\n",
              "          + ' to learn more about interactive tables.';\n",
              "        element.innerHTML = '';\n",
              "        dataTable['output_type'] = 'display_data';\n",
              "        await google.colab.output.renderOutput(dataTable, element);\n",
              "        const docLink = document.createElement('div');\n",
              "        docLink.innerHTML = docLinkHtml;\n",
              "        element.appendChild(docLink);\n",
              "      }\n",
              "    </script>\n",
              "  </div>\n",
              "\n",
              "\n",
              "<div id=\"df-67f2c45b-580c-4a7f-8080-59783b3de2e4\">\n",
              "  <button class=\"colab-df-quickchart\" onclick=\"quickchart('df-67f2c45b-580c-4a7f-8080-59783b3de2e4')\"\n",
              "            title=\"Suggest charts\"\n",
              "            style=\"display:none;\">\n",
              "\n",
              "<svg xmlns=\"http://www.w3.org/2000/svg\" height=\"24px\"viewBox=\"0 0 24 24\"\n",
              "     width=\"24px\">\n",
              "    <g>\n",
              "        <path d=\"M19 3H5c-1.1 0-2 .9-2 2v14c0 1.1.9 2 2 2h14c1.1 0 2-.9 2-2V5c0-1.1-.9-2-2-2zM9 17H7v-7h2v7zm4 0h-2V7h2v10zm4 0h-2v-4h2v4z\"/>\n",
              "    </g>\n",
              "</svg>\n",
              "  </button>\n",
              "\n",
              "<style>\n",
              "  .colab-df-quickchart {\n",
              "      --bg-color: #E8F0FE;\n",
              "      --fill-color: #1967D2;\n",
              "      --hover-bg-color: #E2EBFA;\n",
              "      --hover-fill-color: #174EA6;\n",
              "      --disabled-fill-color: #AAA;\n",
              "      --disabled-bg-color: #DDD;\n",
              "  }\n",
              "\n",
              "  [theme=dark] .colab-df-quickchart {\n",
              "      --bg-color: #3B4455;\n",
              "      --fill-color: #D2E3FC;\n",
              "      --hover-bg-color: #434B5C;\n",
              "      --hover-fill-color: #FFFFFF;\n",
              "      --disabled-bg-color: #3B4455;\n",
              "      --disabled-fill-color: #666;\n",
              "  }\n",
              "\n",
              "  .colab-df-quickchart {\n",
              "    background-color: var(--bg-color);\n",
              "    border: none;\n",
              "    border-radius: 50%;\n",
              "    cursor: pointer;\n",
              "    display: none;\n",
              "    fill: var(--fill-color);\n",
              "    height: 32px;\n",
              "    padding: 0;\n",
              "    width: 32px;\n",
              "  }\n",
              "\n",
              "  .colab-df-quickchart:hover {\n",
              "    background-color: var(--hover-bg-color);\n",
              "    box-shadow: 0 1px 2px rgba(60, 64, 67, 0.3), 0 1px 3px 1px rgba(60, 64, 67, 0.15);\n",
              "    fill: var(--button-hover-fill-color);\n",
              "  }\n",
              "\n",
              "  .colab-df-quickchart-complete:disabled,\n",
              "  .colab-df-quickchart-complete:disabled:hover {\n",
              "    background-color: var(--disabled-bg-color);\n",
              "    fill: var(--disabled-fill-color);\n",
              "    box-shadow: none;\n",
              "  }\n",
              "\n",
              "  .colab-df-spinner {\n",
              "    border: 2px solid var(--fill-color);\n",
              "    border-color: transparent;\n",
              "    border-bottom-color: var(--fill-color);\n",
              "    animation:\n",
              "      spin 1s steps(1) infinite;\n",
              "  }\n",
              "\n",
              "  @keyframes spin {\n",
              "    0% {\n",
              "      border-color: transparent;\n",
              "      border-bottom-color: var(--fill-color);\n",
              "      border-left-color: var(--fill-color);\n",
              "    }\n",
              "    20% {\n",
              "      border-color: transparent;\n",
              "      border-left-color: var(--fill-color);\n",
              "      border-top-color: var(--fill-color);\n",
              "    }\n",
              "    30% {\n",
              "      border-color: transparent;\n",
              "      border-left-color: var(--fill-color);\n",
              "      border-top-color: var(--fill-color);\n",
              "      border-right-color: var(--fill-color);\n",
              "    }\n",
              "    40% {\n",
              "      border-color: transparent;\n",
              "      border-right-color: var(--fill-color);\n",
              "      border-top-color: var(--fill-color);\n",
              "    }\n",
              "    60% {\n",
              "      border-color: transparent;\n",
              "      border-right-color: var(--fill-color);\n",
              "    }\n",
              "    80% {\n",
              "      border-color: transparent;\n",
              "      border-right-color: var(--fill-color);\n",
              "      border-bottom-color: var(--fill-color);\n",
              "    }\n",
              "    90% {\n",
              "      border-color: transparent;\n",
              "      border-bottom-color: var(--fill-color);\n",
              "    }\n",
              "  }\n",
              "</style>\n",
              "\n",
              "  <script>\n",
              "    async function quickchart(key) {\n",
              "      const quickchartButtonEl =\n",
              "        document.querySelector('#' + key + ' button');\n",
              "      quickchartButtonEl.disabled = true;  // To prevent multiple clicks.\n",
              "      quickchartButtonEl.classList.add('colab-df-spinner');\n",
              "      try {\n",
              "        const charts = await google.colab.kernel.invokeFunction(\n",
              "            'suggestCharts', [key], {});\n",
              "      } catch (error) {\n",
              "        console.error('Error during call to suggestCharts:', error);\n",
              "      }\n",
              "      quickchartButtonEl.classList.remove('colab-df-spinner');\n",
              "      quickchartButtonEl.classList.add('colab-df-quickchart-complete');\n",
              "    }\n",
              "    (() => {\n",
              "      let quickchartButtonEl =\n",
              "        document.querySelector('#df-67f2c45b-580c-4a7f-8080-59783b3de2e4 button');\n",
              "      quickchartButtonEl.style.display =\n",
              "        google.colab.kernel.accessAllowed ? 'block' : 'none';\n",
              "    })();\n",
              "  </script>\n",
              "</div>\n",
              "\n",
              "    </div>\n",
              "  </div>\n"
            ],
            "application/vnd.google.colaboratory.intrinsic+json": {
              "type": "dataframe",
              "variable_name": "df",
              "summary": "{\n  \"name\": \"df\",\n  \"rows\": 20000,\n  \"fields\": [\n    {\n      \"column\": \"Customer ID\",\n      \"properties\": {\n        \"dtype\": \"number\",\n        \"std\": 5631,\n        \"min\": 1000,\n        \"max\": 19998,\n        \"num_unique_values\": 12136,\n        \"samples\": [\n          7786,\n          18325,\n          11811\n        ],\n        \"semantic_type\": \"\",\n        \"description\": \"\"\n      }\n    },\n    {\n      \"column\": \"Age\",\n      \"properties\": {\n        \"dtype\": \"number\",\n        \"std\": 18,\n        \"min\": 18,\n        \"max\": 80,\n        \"num_unique_values\": 63,\n        \"samples\": [\n          51,\n          48,\n          53\n        ],\n        \"semantic_type\": \"\",\n        \"description\": \"\"\n      }\n    },\n    {\n      \"column\": \"Gender\",\n      \"properties\": {\n        \"dtype\": \"category\",\n        \"num_unique_values\": 2,\n        \"samples\": [\n          \"Female\",\n          \"Male\"\n        ],\n        \"semantic_type\": \"\",\n        \"description\": \"\"\n      }\n    },\n    {\n      \"column\": \"Loyalty Member\",\n      \"properties\": {\n        \"dtype\": \"category\",\n        \"num_unique_values\": 2,\n        \"samples\": [\n          \"Yes\",\n          \"No\"\n        ],\n        \"semantic_type\": \"\",\n        \"description\": \"\"\n      }\n    },\n    {\n      \"column\": \"Product Type\",\n      \"properties\": {\n        \"dtype\": \"category\",\n        \"num_unique_values\": 5,\n        \"samples\": [\n          \"Tablet\",\n          \"Headphones\"\n        ],\n        \"semantic_type\": \"\",\n        \"description\": \"\"\n      }\n    },\n    {\n      \"column\": \"SKU\",\n      \"properties\": {\n        \"dtype\": \"category\",\n        \"num_unique_values\": 10,\n        \"samples\": [\n          \"HDP456\",\n          \"SKU1002\"\n        ],\n        \"semantic_type\": \"\",\n        \"description\": \"\"\n      }\n    },\n    {\n      \"column\": \"Rating\",\n      \"properties\": {\n        \"dtype\": \"number\",\n        \"std\": 1,\n        \"min\": 1,\n        \"max\": 5,\n        \"num_unique_values\": 5,\n        \"samples\": [\n          3,\n          4\n        ],\n        \"semantic_type\": \"\",\n        \"description\": \"\"\n      }\n    },\n    {\n      \"column\": \"Order Status\",\n      \"properties\": {\n        \"dtype\": \"category\",\n        \"num_unique_values\": 2,\n        \"samples\": [\n          \"Completed\",\n          \"Cancelled\"\n        ],\n        \"semantic_type\": \"\",\n        \"description\": \"\"\n      }\n    },\n    {\n      \"column\": \"Payment Method\",\n      \"properties\": {\n        \"dtype\": \"category\",\n        \"num_unique_values\": 6,\n        \"samples\": [\n          \"Credit Card\",\n          \"Paypal\"\n        ],\n        \"semantic_type\": \"\",\n        \"description\": \"\"\n      }\n    },\n    {\n      \"column\": \"Total Price\",\n      \"properties\": {\n        \"dtype\": \"number\",\n        \"std\": 2544.9786750421763,\n        \"min\": 20.75,\n        \"max\": 11396.8,\n        \"num_unique_values\": 104,\n        \"samples\": [\n          207.5,\n          786.41\n        ],\n        \"semantic_type\": \"\",\n        \"description\": \"\"\n      }\n    },\n    {\n      \"column\": \"Unit Price\",\n      \"properties\": {\n        \"dtype\": \"number\",\n        \"std\": 312.27407601846954,\n        \"min\": 20.75,\n        \"max\": 1139.68,\n        \"num_unique_values\": 14,\n        \"samples\": [\n          674.32,\n          786.41\n        ],\n        \"semantic_type\": \"\",\n        \"description\": \"\"\n      }\n    },\n    {\n      \"column\": \"Quantity\",\n      \"properties\": {\n        \"dtype\": \"number\",\n        \"std\": 2,\n        \"min\": 1,\n        \"max\": 10,\n        \"num_unique_values\": 10,\n        \"samples\": [\n          1,\n          3\n        ],\n        \"semantic_type\": \"\",\n        \"description\": \"\"\n      }\n    },\n    {\n      \"column\": \"Purchase Date\",\n      \"properties\": {\n        \"dtype\": \"object\",\n        \"num_unique_values\": 366,\n        \"samples\": [\n          \"2024-04-15\",\n          \"2024-03-25\"\n        ],\n        \"semantic_type\": \"\",\n        \"description\": \"\"\n      }\n    },\n    {\n      \"column\": \"Shipping Type\",\n      \"properties\": {\n        \"dtype\": \"category\",\n        \"num_unique_values\": 5,\n        \"samples\": [\n          \"Overnight\",\n          \"Expedited\"\n        ],\n        \"semantic_type\": \"\",\n        \"description\": \"\"\n      }\n    },\n    {\n      \"column\": \"Add-ons Purchased\",\n      \"properties\": {\n        \"dtype\": \"category\",\n        \"num_unique_values\": 75,\n        \"samples\": [\n          \"Impulse Item,Accessory\",\n          \"Accessory, Extended Warranty, Impulse Item\"\n        ],\n        \"semantic_type\": \"\",\n        \"description\": \"\"\n      }\n    },\n    {\n      \"column\": \"Add-on Total\",\n      \"properties\": {\n        \"dtype\": \"number\",\n        \"std\": 58.05843080101657,\n        \"min\": 0.0,\n        \"max\": 292.77,\n        \"num_unique_values\": 10036,\n        \"samples\": [\n          62.22,\n          160.27\n        ],\n        \"semantic_type\": \"\",\n        \"description\": \"\"\n      }\n    }\n  ]\n}"
            }
          },
          "metadata": {},
          "execution_count": 28
        }
      ]
    },
    {
      "cell_type": "code",
      "source": [
        "df.info()"
      ],
      "metadata": {
        "colab": {
          "base_uri": "https://localhost:8080/"
        },
        "id": "Jxi-5X7uUhob",
        "outputId": "c0c974ca-0307-48a1-d12a-08dafdf1da30"
      },
      "execution_count": 29,
      "outputs": [
        {
          "output_type": "stream",
          "name": "stdout",
          "text": [
            "<class 'pandas.core.frame.DataFrame'>\n",
            "RangeIndex: 20000 entries, 0 to 19999\n",
            "Data columns (total 16 columns):\n",
            " #   Column             Non-Null Count  Dtype  \n",
            "---  ------             --------------  -----  \n",
            " 0   Customer ID        20000 non-null  int64  \n",
            " 1   Age                20000 non-null  int64  \n",
            " 2   Gender             19999 non-null  object \n",
            " 3   Loyalty Member     20000 non-null  object \n",
            " 4   Product Type       20000 non-null  object \n",
            " 5   SKU                20000 non-null  object \n",
            " 6   Rating             20000 non-null  int64  \n",
            " 7   Order Status       20000 non-null  object \n",
            " 8   Payment Method     20000 non-null  object \n",
            " 9   Total Price        20000 non-null  float64\n",
            " 10  Unit Price         20000 non-null  float64\n",
            " 11  Quantity           20000 non-null  int64  \n",
            " 12  Purchase Date      20000 non-null  object \n",
            " 13  Shipping Type      20000 non-null  object \n",
            " 14  Add-ons Purchased  15132 non-null  object \n",
            " 15  Add-on Total       20000 non-null  float64\n",
            "dtypes: float64(3), int64(4), object(9)\n",
            "memory usage: 2.4+ MB\n"
          ]
        }
      ]
    },
    {
      "cell_type": "markdown",
      "source": [
        "## Let's clean the data"
      ],
      "metadata": {
        "id": "FQEfyv8fU4A0"
      }
    },
    {
      "cell_type": "markdown",
      "source": [
        "Convert 'Purchase Date' column to datetime format"
      ],
      "metadata": {
        "id": "lpHsuG5oVLUk"
      }
    },
    {
      "cell_type": "code",
      "source": [
        "df['Purchase Date'] = pd.to_datetime(df['Purchase Date'])"
      ],
      "metadata": {
        "id": "yau4Is1qU-pt"
      },
      "execution_count": 30,
      "outputs": []
    },
    {
      "cell_type": "markdown",
      "source": [
        "Convert 'Loyalty Member' to numeric"
      ],
      "metadata": {
        "id": "3G_6D51zVkT-"
      }
    },
    {
      "cell_type": "code",
      "source": [
        "df_['Loyalty Member'] = df['Loyalty Member'].map({'No': 0, 'Yes': 1})"
      ],
      "metadata": {
        "id": "1PUU6yaDVkmx"
      },
      "execution_count": null,
      "outputs": []
    },
    {
      "cell_type": "markdown",
      "source": [
        "Drop unessary columns"
      ],
      "metadata": {
        "id": "1nRAk7VfShnI"
      }
    },
    {
      "cell_type": "code",
      "source": [
        "df.drop(columns=['Add-ons Purchased', 'Add-on Total'], inplace=True)\n",
        "df.head()"
      ],
      "metadata": {
        "colab": {
          "base_uri": "https://localhost:8080/",
          "height": 206
        },
        "id": "4im86MviSh3A",
        "outputId": "7cf976fa-3ce4-4aeb-fcbd-44b9ffe9a13d"
      },
      "execution_count": 31,
      "outputs": [
        {
          "output_type": "execute_result",
          "data": {
            "text/plain": [
              "   Customer ID  Age Gender Loyalty Member Product Type      SKU  Rating  \\\n",
              "0         1000   53   Male             No   Smartphone  SKU1004       2   \n",
              "1         1000   53   Male             No       Tablet  SKU1002       3   \n",
              "2         1002   41   Male             No       Laptop  SKU1005       3   \n",
              "3         1002   41   Male            Yes   Smartphone  SKU1004       2   \n",
              "4         1003   75   Male            Yes   Smartphone  SKU1001       5   \n",
              "\n",
              "  Order Status Payment Method  Total Price  Unit Price  Quantity  \\\n",
              "0    Cancelled    Credit Card      5538.33      791.19         7   \n",
              "1    Completed         Paypal       741.09      247.03         3   \n",
              "2    Completed    Credit Card      1855.84      463.96         4   \n",
              "3    Completed           Cash      3164.76      791.19         4   \n",
              "4    Completed           Cash        41.50       20.75         2   \n",
              "\n",
              "  Purchase Date Shipping Type  \n",
              "0    2024-03-20      Standard  \n",
              "1    2024-04-20     Overnight  \n",
              "2    2023-10-17       Express  \n",
              "3    2024-08-09     Overnight  \n",
              "4    2024-05-21       Express  "
            ],
            "text/html": [
              "\n",
              "  <div id=\"df-895da043-c9ac-4e74-8471-28c46e1a9346\" class=\"colab-df-container\">\n",
              "    <div>\n",
              "<style scoped>\n",
              "    .dataframe tbody tr th:only-of-type {\n",
              "        vertical-align: middle;\n",
              "    }\n",
              "\n",
              "    .dataframe tbody tr th {\n",
              "        vertical-align: top;\n",
              "    }\n",
              "\n",
              "    .dataframe thead th {\n",
              "        text-align: right;\n",
              "    }\n",
              "</style>\n",
              "<table border=\"1\" class=\"dataframe\">\n",
              "  <thead>\n",
              "    <tr style=\"text-align: right;\">\n",
              "      <th></th>\n",
              "      <th>Customer ID</th>\n",
              "      <th>Age</th>\n",
              "      <th>Gender</th>\n",
              "      <th>Loyalty Member</th>\n",
              "      <th>Product Type</th>\n",
              "      <th>SKU</th>\n",
              "      <th>Rating</th>\n",
              "      <th>Order Status</th>\n",
              "      <th>Payment Method</th>\n",
              "      <th>Total Price</th>\n",
              "      <th>Unit Price</th>\n",
              "      <th>Quantity</th>\n",
              "      <th>Purchase Date</th>\n",
              "      <th>Shipping Type</th>\n",
              "    </tr>\n",
              "  </thead>\n",
              "  <tbody>\n",
              "    <tr>\n",
              "      <th>0</th>\n",
              "      <td>1000</td>\n",
              "      <td>53</td>\n",
              "      <td>Male</td>\n",
              "      <td>No</td>\n",
              "      <td>Smartphone</td>\n",
              "      <td>SKU1004</td>\n",
              "      <td>2</td>\n",
              "      <td>Cancelled</td>\n",
              "      <td>Credit Card</td>\n",
              "      <td>5538.33</td>\n",
              "      <td>791.19</td>\n",
              "      <td>7</td>\n",
              "      <td>2024-03-20</td>\n",
              "      <td>Standard</td>\n",
              "    </tr>\n",
              "    <tr>\n",
              "      <th>1</th>\n",
              "      <td>1000</td>\n",
              "      <td>53</td>\n",
              "      <td>Male</td>\n",
              "      <td>No</td>\n",
              "      <td>Tablet</td>\n",
              "      <td>SKU1002</td>\n",
              "      <td>3</td>\n",
              "      <td>Completed</td>\n",
              "      <td>Paypal</td>\n",
              "      <td>741.09</td>\n",
              "      <td>247.03</td>\n",
              "      <td>3</td>\n",
              "      <td>2024-04-20</td>\n",
              "      <td>Overnight</td>\n",
              "    </tr>\n",
              "    <tr>\n",
              "      <th>2</th>\n",
              "      <td>1002</td>\n",
              "      <td>41</td>\n",
              "      <td>Male</td>\n",
              "      <td>No</td>\n",
              "      <td>Laptop</td>\n",
              "      <td>SKU1005</td>\n",
              "      <td>3</td>\n",
              "      <td>Completed</td>\n",
              "      <td>Credit Card</td>\n",
              "      <td>1855.84</td>\n",
              "      <td>463.96</td>\n",
              "      <td>4</td>\n",
              "      <td>2023-10-17</td>\n",
              "      <td>Express</td>\n",
              "    </tr>\n",
              "    <tr>\n",
              "      <th>3</th>\n",
              "      <td>1002</td>\n",
              "      <td>41</td>\n",
              "      <td>Male</td>\n",
              "      <td>Yes</td>\n",
              "      <td>Smartphone</td>\n",
              "      <td>SKU1004</td>\n",
              "      <td>2</td>\n",
              "      <td>Completed</td>\n",
              "      <td>Cash</td>\n",
              "      <td>3164.76</td>\n",
              "      <td>791.19</td>\n",
              "      <td>4</td>\n",
              "      <td>2024-08-09</td>\n",
              "      <td>Overnight</td>\n",
              "    </tr>\n",
              "    <tr>\n",
              "      <th>4</th>\n",
              "      <td>1003</td>\n",
              "      <td>75</td>\n",
              "      <td>Male</td>\n",
              "      <td>Yes</td>\n",
              "      <td>Smartphone</td>\n",
              "      <td>SKU1001</td>\n",
              "      <td>5</td>\n",
              "      <td>Completed</td>\n",
              "      <td>Cash</td>\n",
              "      <td>41.50</td>\n",
              "      <td>20.75</td>\n",
              "      <td>2</td>\n",
              "      <td>2024-05-21</td>\n",
              "      <td>Express</td>\n",
              "    </tr>\n",
              "  </tbody>\n",
              "</table>\n",
              "</div>\n",
              "    <div class=\"colab-df-buttons\">\n",
              "\n",
              "  <div class=\"colab-df-container\">\n",
              "    <button class=\"colab-df-convert\" onclick=\"convertToInteractive('df-895da043-c9ac-4e74-8471-28c46e1a9346')\"\n",
              "            title=\"Convert this dataframe to an interactive table.\"\n",
              "            style=\"display:none;\">\n",
              "\n",
              "  <svg xmlns=\"http://www.w3.org/2000/svg\" height=\"24px\" viewBox=\"0 -960 960 960\">\n",
              "    <path d=\"M120-120v-720h720v720H120Zm60-500h600v-160H180v160Zm220 220h160v-160H400v160Zm0 220h160v-160H400v160ZM180-400h160v-160H180v160Zm440 0h160v-160H620v160ZM180-180h160v-160H180v160Zm440 0h160v-160H620v160Z\"/>\n",
              "  </svg>\n",
              "    </button>\n",
              "\n",
              "  <style>\n",
              "    .colab-df-container {\n",
              "      display:flex;\n",
              "      gap: 12px;\n",
              "    }\n",
              "\n",
              "    .colab-df-convert {\n",
              "      background-color: #E8F0FE;\n",
              "      border: none;\n",
              "      border-radius: 50%;\n",
              "      cursor: pointer;\n",
              "      display: none;\n",
              "      fill: #1967D2;\n",
              "      height: 32px;\n",
              "      padding: 0 0 0 0;\n",
              "      width: 32px;\n",
              "    }\n",
              "\n",
              "    .colab-df-convert:hover {\n",
              "      background-color: #E2EBFA;\n",
              "      box-shadow: 0px 1px 2px rgba(60, 64, 67, 0.3), 0px 1px 3px 1px rgba(60, 64, 67, 0.15);\n",
              "      fill: #174EA6;\n",
              "    }\n",
              "\n",
              "    .colab-df-buttons div {\n",
              "      margin-bottom: 4px;\n",
              "    }\n",
              "\n",
              "    [theme=dark] .colab-df-convert {\n",
              "      background-color: #3B4455;\n",
              "      fill: #D2E3FC;\n",
              "    }\n",
              "\n",
              "    [theme=dark] .colab-df-convert:hover {\n",
              "      background-color: #434B5C;\n",
              "      box-shadow: 0px 1px 3px 1px rgba(0, 0, 0, 0.15);\n",
              "      filter: drop-shadow(0px 1px 2px rgba(0, 0, 0, 0.3));\n",
              "      fill: #FFFFFF;\n",
              "    }\n",
              "  </style>\n",
              "\n",
              "    <script>\n",
              "      const buttonEl =\n",
              "        document.querySelector('#df-895da043-c9ac-4e74-8471-28c46e1a9346 button.colab-df-convert');\n",
              "      buttonEl.style.display =\n",
              "        google.colab.kernel.accessAllowed ? 'block' : 'none';\n",
              "\n",
              "      async function convertToInteractive(key) {\n",
              "        const element = document.querySelector('#df-895da043-c9ac-4e74-8471-28c46e1a9346');\n",
              "        const dataTable =\n",
              "          await google.colab.kernel.invokeFunction('convertToInteractive',\n",
              "                                                    [key], {});\n",
              "        if (!dataTable) return;\n",
              "\n",
              "        const docLinkHtml = 'Like what you see? Visit the ' +\n",
              "          '<a target=\"_blank\" href=https://colab.research.google.com/notebooks/data_table.ipynb>data table notebook</a>'\n",
              "          + ' to learn more about interactive tables.';\n",
              "        element.innerHTML = '';\n",
              "        dataTable['output_type'] = 'display_data';\n",
              "        await google.colab.output.renderOutput(dataTable, element);\n",
              "        const docLink = document.createElement('div');\n",
              "        docLink.innerHTML = docLinkHtml;\n",
              "        element.appendChild(docLink);\n",
              "      }\n",
              "    </script>\n",
              "  </div>\n",
              "\n",
              "\n",
              "<div id=\"df-13a68d5b-dda3-4699-b94d-ef0207d2d92f\">\n",
              "  <button class=\"colab-df-quickchart\" onclick=\"quickchart('df-13a68d5b-dda3-4699-b94d-ef0207d2d92f')\"\n",
              "            title=\"Suggest charts\"\n",
              "            style=\"display:none;\">\n",
              "\n",
              "<svg xmlns=\"http://www.w3.org/2000/svg\" height=\"24px\"viewBox=\"0 0 24 24\"\n",
              "     width=\"24px\">\n",
              "    <g>\n",
              "        <path d=\"M19 3H5c-1.1 0-2 .9-2 2v14c0 1.1.9 2 2 2h14c1.1 0 2-.9 2-2V5c0-1.1-.9-2-2-2zM9 17H7v-7h2v7zm4 0h-2V7h2v10zm4 0h-2v-4h2v4z\"/>\n",
              "    </g>\n",
              "</svg>\n",
              "  </button>\n",
              "\n",
              "<style>\n",
              "  .colab-df-quickchart {\n",
              "      --bg-color: #E8F0FE;\n",
              "      --fill-color: #1967D2;\n",
              "      --hover-bg-color: #E2EBFA;\n",
              "      --hover-fill-color: #174EA6;\n",
              "      --disabled-fill-color: #AAA;\n",
              "      --disabled-bg-color: #DDD;\n",
              "  }\n",
              "\n",
              "  [theme=dark] .colab-df-quickchart {\n",
              "      --bg-color: #3B4455;\n",
              "      --fill-color: #D2E3FC;\n",
              "      --hover-bg-color: #434B5C;\n",
              "      --hover-fill-color: #FFFFFF;\n",
              "      --disabled-bg-color: #3B4455;\n",
              "      --disabled-fill-color: #666;\n",
              "  }\n",
              "\n",
              "  .colab-df-quickchart {\n",
              "    background-color: var(--bg-color);\n",
              "    border: none;\n",
              "    border-radius: 50%;\n",
              "    cursor: pointer;\n",
              "    display: none;\n",
              "    fill: var(--fill-color);\n",
              "    height: 32px;\n",
              "    padding: 0;\n",
              "    width: 32px;\n",
              "  }\n",
              "\n",
              "  .colab-df-quickchart:hover {\n",
              "    background-color: var(--hover-bg-color);\n",
              "    box-shadow: 0 1px 2px rgba(60, 64, 67, 0.3), 0 1px 3px 1px rgba(60, 64, 67, 0.15);\n",
              "    fill: var(--button-hover-fill-color);\n",
              "  }\n",
              "\n",
              "  .colab-df-quickchart-complete:disabled,\n",
              "  .colab-df-quickchart-complete:disabled:hover {\n",
              "    background-color: var(--disabled-bg-color);\n",
              "    fill: var(--disabled-fill-color);\n",
              "    box-shadow: none;\n",
              "  }\n",
              "\n",
              "  .colab-df-spinner {\n",
              "    border: 2px solid var(--fill-color);\n",
              "    border-color: transparent;\n",
              "    border-bottom-color: var(--fill-color);\n",
              "    animation:\n",
              "      spin 1s steps(1) infinite;\n",
              "  }\n",
              "\n",
              "  @keyframes spin {\n",
              "    0% {\n",
              "      border-color: transparent;\n",
              "      border-bottom-color: var(--fill-color);\n",
              "      border-left-color: var(--fill-color);\n",
              "    }\n",
              "    20% {\n",
              "      border-color: transparent;\n",
              "      border-left-color: var(--fill-color);\n",
              "      border-top-color: var(--fill-color);\n",
              "    }\n",
              "    30% {\n",
              "      border-color: transparent;\n",
              "      border-left-color: var(--fill-color);\n",
              "      border-top-color: var(--fill-color);\n",
              "      border-right-color: var(--fill-color);\n",
              "    }\n",
              "    40% {\n",
              "      border-color: transparent;\n",
              "      border-right-color: var(--fill-color);\n",
              "      border-top-color: var(--fill-color);\n",
              "    }\n",
              "    60% {\n",
              "      border-color: transparent;\n",
              "      border-right-color: var(--fill-color);\n",
              "    }\n",
              "    80% {\n",
              "      border-color: transparent;\n",
              "      border-right-color: var(--fill-color);\n",
              "      border-bottom-color: var(--fill-color);\n",
              "    }\n",
              "    90% {\n",
              "      border-color: transparent;\n",
              "      border-bottom-color: var(--fill-color);\n",
              "    }\n",
              "  }\n",
              "</style>\n",
              "\n",
              "  <script>\n",
              "    async function quickchart(key) {\n",
              "      const quickchartButtonEl =\n",
              "        document.querySelector('#' + key + ' button');\n",
              "      quickchartButtonEl.disabled = true;  // To prevent multiple clicks.\n",
              "      quickchartButtonEl.classList.add('colab-df-spinner');\n",
              "      try {\n",
              "        const charts = await google.colab.kernel.invokeFunction(\n",
              "            'suggestCharts', [key], {});\n",
              "      } catch (error) {\n",
              "        console.error('Error during call to suggestCharts:', error);\n",
              "      }\n",
              "      quickchartButtonEl.classList.remove('colab-df-spinner');\n",
              "      quickchartButtonEl.classList.add('colab-df-quickchart-complete');\n",
              "    }\n",
              "    (() => {\n",
              "      let quickchartButtonEl =\n",
              "        document.querySelector('#df-13a68d5b-dda3-4699-b94d-ef0207d2d92f button');\n",
              "      quickchartButtonEl.style.display =\n",
              "        google.colab.kernel.accessAllowed ? 'block' : 'none';\n",
              "    })();\n",
              "  </script>\n",
              "</div>\n",
              "\n",
              "    </div>\n",
              "  </div>\n"
            ],
            "application/vnd.google.colaboratory.intrinsic+json": {
              "type": "dataframe",
              "variable_name": "df",
              "summary": "{\n  \"name\": \"df\",\n  \"rows\": 20000,\n  \"fields\": [\n    {\n      \"column\": \"Customer ID\",\n      \"properties\": {\n        \"dtype\": \"number\",\n        \"std\": 5631,\n        \"min\": 1000,\n        \"max\": 19998,\n        \"num_unique_values\": 12136,\n        \"samples\": [\n          7786,\n          18325,\n          11811\n        ],\n        \"semantic_type\": \"\",\n        \"description\": \"\"\n      }\n    },\n    {\n      \"column\": \"Age\",\n      \"properties\": {\n        \"dtype\": \"number\",\n        \"std\": 18,\n        \"min\": 18,\n        \"max\": 80,\n        \"num_unique_values\": 63,\n        \"samples\": [\n          51,\n          48,\n          53\n        ],\n        \"semantic_type\": \"\",\n        \"description\": \"\"\n      }\n    },\n    {\n      \"column\": \"Gender\",\n      \"properties\": {\n        \"dtype\": \"category\",\n        \"num_unique_values\": 2,\n        \"samples\": [\n          \"Female\",\n          \"Male\"\n        ],\n        \"semantic_type\": \"\",\n        \"description\": \"\"\n      }\n    },\n    {\n      \"column\": \"Loyalty Member\",\n      \"properties\": {\n        \"dtype\": \"category\",\n        \"num_unique_values\": 2,\n        \"samples\": [\n          \"Yes\",\n          \"No\"\n        ],\n        \"semantic_type\": \"\",\n        \"description\": \"\"\n      }\n    },\n    {\n      \"column\": \"Product Type\",\n      \"properties\": {\n        \"dtype\": \"category\",\n        \"num_unique_values\": 5,\n        \"samples\": [\n          \"Tablet\",\n          \"Headphones\"\n        ],\n        \"semantic_type\": \"\",\n        \"description\": \"\"\n      }\n    },\n    {\n      \"column\": \"SKU\",\n      \"properties\": {\n        \"dtype\": \"category\",\n        \"num_unique_values\": 10,\n        \"samples\": [\n          \"HDP456\",\n          \"SKU1002\"\n        ],\n        \"semantic_type\": \"\",\n        \"description\": \"\"\n      }\n    },\n    {\n      \"column\": \"Rating\",\n      \"properties\": {\n        \"dtype\": \"number\",\n        \"std\": 1,\n        \"min\": 1,\n        \"max\": 5,\n        \"num_unique_values\": 5,\n        \"samples\": [\n          3,\n          4\n        ],\n        \"semantic_type\": \"\",\n        \"description\": \"\"\n      }\n    },\n    {\n      \"column\": \"Order Status\",\n      \"properties\": {\n        \"dtype\": \"category\",\n        \"num_unique_values\": 2,\n        \"samples\": [\n          \"Completed\",\n          \"Cancelled\"\n        ],\n        \"semantic_type\": \"\",\n        \"description\": \"\"\n      }\n    },\n    {\n      \"column\": \"Payment Method\",\n      \"properties\": {\n        \"dtype\": \"category\",\n        \"num_unique_values\": 6,\n        \"samples\": [\n          \"Credit Card\",\n          \"Paypal\"\n        ],\n        \"semantic_type\": \"\",\n        \"description\": \"\"\n      }\n    },\n    {\n      \"column\": \"Total Price\",\n      \"properties\": {\n        \"dtype\": \"number\",\n        \"std\": 2544.9786750421763,\n        \"min\": 20.75,\n        \"max\": 11396.8,\n        \"num_unique_values\": 104,\n        \"samples\": [\n          207.5,\n          786.41\n        ],\n        \"semantic_type\": \"\",\n        \"description\": \"\"\n      }\n    },\n    {\n      \"column\": \"Unit Price\",\n      \"properties\": {\n        \"dtype\": \"number\",\n        \"std\": 312.27407601846954,\n        \"min\": 20.75,\n        \"max\": 1139.68,\n        \"num_unique_values\": 14,\n        \"samples\": [\n          674.32,\n          786.41\n        ],\n        \"semantic_type\": \"\",\n        \"description\": \"\"\n      }\n    },\n    {\n      \"column\": \"Quantity\",\n      \"properties\": {\n        \"dtype\": \"number\",\n        \"std\": 2,\n        \"min\": 1,\n        \"max\": 10,\n        \"num_unique_values\": 10,\n        \"samples\": [\n          1,\n          3\n        ],\n        \"semantic_type\": \"\",\n        \"description\": \"\"\n      }\n    },\n    {\n      \"column\": \"Purchase Date\",\n      \"properties\": {\n        \"dtype\": \"date\",\n        \"min\": \"2023-09-24 00:00:00\",\n        \"max\": \"2024-09-23 00:00:00\",\n        \"num_unique_values\": 366,\n        \"samples\": [\n          \"2024-04-15 00:00:00\",\n          \"2024-03-25 00:00:00\"\n        ],\n        \"semantic_type\": \"\",\n        \"description\": \"\"\n      }\n    },\n    {\n      \"column\": \"Shipping Type\",\n      \"properties\": {\n        \"dtype\": \"category\",\n        \"num_unique_values\": 5,\n        \"samples\": [\n          \"Overnight\",\n          \"Expedited\"\n        ],\n        \"semantic_type\": \"\",\n        \"description\": \"\"\n      }\n    }\n  ]\n}"
            }
          },
          "metadata": {},
          "execution_count": 31
        }
      ]
    },
    {
      "cell_type": "markdown",
      "source": [
        "Handle missing values"
      ],
      "metadata": {
        "id": "a28YQ9UqVXI9"
      }
    },
    {
      "cell_type": "code",
      "source": [
        "df.isnull().sum()"
      ],
      "metadata": {
        "colab": {
          "base_uri": "https://localhost:8080/",
          "height": 523
        },
        "id": "66EaOHcEVdrZ",
        "outputId": "4a268032-c485-4bc1-f7bb-282e1d26f467"
      },
      "execution_count": 32,
      "outputs": [
        {
          "output_type": "execute_result",
          "data": {
            "text/plain": [
              "Customer ID       0\n",
              "Age               0\n",
              "Gender            1\n",
              "Loyalty Member    0\n",
              "Product Type      0\n",
              "SKU               0\n",
              "Rating            0\n",
              "Order Status      0\n",
              "Payment Method    0\n",
              "Total Price       0\n",
              "Unit Price        0\n",
              "Quantity          0\n",
              "Purchase Date     0\n",
              "Shipping Type     0\n",
              "dtype: int64"
            ],
            "text/html": [
              "<div>\n",
              "<style scoped>\n",
              "    .dataframe tbody tr th:only-of-type {\n",
              "        vertical-align: middle;\n",
              "    }\n",
              "\n",
              "    .dataframe tbody tr th {\n",
              "        vertical-align: top;\n",
              "    }\n",
              "\n",
              "    .dataframe thead th {\n",
              "        text-align: right;\n",
              "    }\n",
              "</style>\n",
              "<table border=\"1\" class=\"dataframe\">\n",
              "  <thead>\n",
              "    <tr style=\"text-align: right;\">\n",
              "      <th></th>\n",
              "      <th>0</th>\n",
              "    </tr>\n",
              "  </thead>\n",
              "  <tbody>\n",
              "    <tr>\n",
              "      <th>Customer ID</th>\n",
              "      <td>0</td>\n",
              "    </tr>\n",
              "    <tr>\n",
              "      <th>Age</th>\n",
              "      <td>0</td>\n",
              "    </tr>\n",
              "    <tr>\n",
              "      <th>Gender</th>\n",
              "      <td>1</td>\n",
              "    </tr>\n",
              "    <tr>\n",
              "      <th>Loyalty Member</th>\n",
              "      <td>0</td>\n",
              "    </tr>\n",
              "    <tr>\n",
              "      <th>Product Type</th>\n",
              "      <td>0</td>\n",
              "    </tr>\n",
              "    <tr>\n",
              "      <th>SKU</th>\n",
              "      <td>0</td>\n",
              "    </tr>\n",
              "    <tr>\n",
              "      <th>Rating</th>\n",
              "      <td>0</td>\n",
              "    </tr>\n",
              "    <tr>\n",
              "      <th>Order Status</th>\n",
              "      <td>0</td>\n",
              "    </tr>\n",
              "    <tr>\n",
              "      <th>Payment Method</th>\n",
              "      <td>0</td>\n",
              "    </tr>\n",
              "    <tr>\n",
              "      <th>Total Price</th>\n",
              "      <td>0</td>\n",
              "    </tr>\n",
              "    <tr>\n",
              "      <th>Unit Price</th>\n",
              "      <td>0</td>\n",
              "    </tr>\n",
              "    <tr>\n",
              "      <th>Quantity</th>\n",
              "      <td>0</td>\n",
              "    </tr>\n",
              "    <tr>\n",
              "      <th>Purchase Date</th>\n",
              "      <td>0</td>\n",
              "    </tr>\n",
              "    <tr>\n",
              "      <th>Shipping Type</th>\n",
              "      <td>0</td>\n",
              "    </tr>\n",
              "  </tbody>\n",
              "</table>\n",
              "</div><br><label><b>dtype:</b> int64</label>"
            ]
          },
          "metadata": {},
          "execution_count": 32
        }
      ]
    },
    {
      "cell_type": "markdown",
      "source": [
        "Fill missing Gender with mode"
      ],
      "metadata": {
        "id": "cfgNaM2GV9c9"
      }
    },
    {
      "cell_type": "code",
      "source": [
        "df = df.assign(Gender=df['Gender'].fillna(df['Gender'].mode()[0]))"
      ],
      "metadata": {
        "id": "3e23b2juVlba"
      },
      "execution_count": 55,
      "outputs": []
    },
    {
      "cell_type": "code",
      "source": [
        "df.isnull().sum()"
      ],
      "metadata": {
        "colab": {
          "base_uri": "https://localhost:8080/",
          "height": 523
        },
        "id": "MTR_VihDWpl0",
        "outputId": "77b7089b-d10a-4ef6-e4f8-0a449d779abf"
      },
      "execution_count": 56,
      "outputs": [
        {
          "output_type": "execute_result",
          "data": {
            "text/plain": [
              "Customer ID       0\n",
              "Age               0\n",
              "Gender            0\n",
              "Loyalty Member    0\n",
              "Product Type      0\n",
              "SKU               0\n",
              "Rating            0\n",
              "Order Status      0\n",
              "Payment Method    0\n",
              "Total Price       0\n",
              "Unit Price        0\n",
              "Quantity          0\n",
              "Purchase Date     0\n",
              "Shipping Type     0\n",
              "dtype: int64"
            ],
            "text/html": [
              "<div>\n",
              "<style scoped>\n",
              "    .dataframe tbody tr th:only-of-type {\n",
              "        vertical-align: middle;\n",
              "    }\n",
              "\n",
              "    .dataframe tbody tr th {\n",
              "        vertical-align: top;\n",
              "    }\n",
              "\n",
              "    .dataframe thead th {\n",
              "        text-align: right;\n",
              "    }\n",
              "</style>\n",
              "<table border=\"1\" class=\"dataframe\">\n",
              "  <thead>\n",
              "    <tr style=\"text-align: right;\">\n",
              "      <th></th>\n",
              "      <th>0</th>\n",
              "    </tr>\n",
              "  </thead>\n",
              "  <tbody>\n",
              "    <tr>\n",
              "      <th>Customer ID</th>\n",
              "      <td>0</td>\n",
              "    </tr>\n",
              "    <tr>\n",
              "      <th>Age</th>\n",
              "      <td>0</td>\n",
              "    </tr>\n",
              "    <tr>\n",
              "      <th>Gender</th>\n",
              "      <td>0</td>\n",
              "    </tr>\n",
              "    <tr>\n",
              "      <th>Loyalty Member</th>\n",
              "      <td>0</td>\n",
              "    </tr>\n",
              "    <tr>\n",
              "      <th>Product Type</th>\n",
              "      <td>0</td>\n",
              "    </tr>\n",
              "    <tr>\n",
              "      <th>SKU</th>\n",
              "      <td>0</td>\n",
              "    </tr>\n",
              "    <tr>\n",
              "      <th>Rating</th>\n",
              "      <td>0</td>\n",
              "    </tr>\n",
              "    <tr>\n",
              "      <th>Order Status</th>\n",
              "      <td>0</td>\n",
              "    </tr>\n",
              "    <tr>\n",
              "      <th>Payment Method</th>\n",
              "      <td>0</td>\n",
              "    </tr>\n",
              "    <tr>\n",
              "      <th>Total Price</th>\n",
              "      <td>0</td>\n",
              "    </tr>\n",
              "    <tr>\n",
              "      <th>Unit Price</th>\n",
              "      <td>0</td>\n",
              "    </tr>\n",
              "    <tr>\n",
              "      <th>Quantity</th>\n",
              "      <td>0</td>\n",
              "    </tr>\n",
              "    <tr>\n",
              "      <th>Purchase Date</th>\n",
              "      <td>0</td>\n",
              "    </tr>\n",
              "    <tr>\n",
              "      <th>Shipping Type</th>\n",
              "      <td>0</td>\n",
              "    </tr>\n",
              "  </tbody>\n",
              "</table>\n",
              "</div><br><label><b>dtype:</b> int64</label>"
            ]
          },
          "metadata": {},
          "execution_count": 56
        }
      ]
    },
    {
      "cell_type": "markdown",
      "source": [
        "Check the unique values of 'Payment Method'"
      ],
      "metadata": {
        "id": "F91jPs_sTZIS"
      }
    },
    {
      "cell_type": "code",
      "source": [
        "print(df['Payment Method'].unique())"
      ],
      "metadata": {
        "colab": {
          "base_uri": "https://localhost:8080/"
        },
        "id": "db0tfD6oTYd_",
        "outputId": "825fe651-92a1-49b3-f271-5774228c57a5"
      },
      "execution_count": 57,
      "outputs": [
        {
          "output_type": "stream",
          "name": "stdout",
          "text": [
            "['Credit Card' 'Paypal' 'Cash' 'Debit Card' 'Bank Transfer' 'PayPal']\n"
          ]
        }
      ]
    },
    {
      "cell_type": "markdown",
      "source": [
        "clean the variantions"
      ],
      "metadata": {
        "id": "JsU91WLNTmpx"
      }
    },
    {
      "cell_type": "code",
      "source": [
        "df['Payment Method'] = df['Payment Method'].replace({'Paypal': 'PayPal'})"
      ],
      "metadata": {
        "id": "Y9WaNiy6TmyW"
      },
      "execution_count": 58,
      "outputs": []
    },
    {
      "cell_type": "markdown",
      "source": [
        "get a copy of the dataset"
      ],
      "metadata": {
        "id": "G4NJexy6VuF3"
      }
    },
    {
      "cell_type": "code",
      "source": [
        "df_clean = df.copy()"
      ],
      "metadata": {
        "id": "HF6kUQBjVuUU"
      },
      "execution_count": 59,
      "outputs": []
    },
    {
      "cell_type": "markdown",
      "source": [
        "## Key insights from EDA"
      ],
      "metadata": {
        "id": "iihOmw-EW7vF"
      }
    },
    {
      "cell_type": "code",
      "source": [
        "import matplotlib.pyplot as plt\n",
        "import seaborn as sns\n",
        "\n",
        "sns.set_style(\"whitegrid\")"
      ],
      "metadata": {
        "id": "Y4GnlsINXHMF"
      },
      "execution_count": 60,
      "outputs": []
    },
    {
      "cell_type": "markdown",
      "source": [
        "Sales trend over time"
      ],
      "metadata": {
        "id": "4qweDZLtXO4x"
      }
    },
    {
      "cell_type": "code",
      "source": [
        "plt.figure(figsize=(12, 6))\n",
        "df.resample('ME', on='Purchase Date')['Total Price'].sum().plot(marker='o', color='b')\n",
        "plt.title(\"Monthly Sales Trend (Total Revenue)\", fontsize=14)\n",
        "plt.xlabel(\"Month\", fontsize=12)\n",
        "plt.ylabel(\"Total Revenue (USD)\", fontsize=12)\n",
        "plt.xticks(rotation=45)\n",
        "plt.show()"
      ],
      "metadata": {
        "colab": {
          "base_uri": "https://localhost:8080/",
          "height": 601
        },
        "id": "kRzDjy0DX5bm",
        "outputId": "66c9eb3d-85bc-4238-935f-7e89d4f01569"
      },
      "execution_count": 61,
      "outputs": [
        {
          "output_type": "display_data",
          "data": {
            "text/plain": [
              "<Figure size 1200x600 with 1 Axes>"
            ],
            "image/png": "[encoded data removed]"
          },
          "metadata": {}
        }
      ]
    },
    {
      "cell_type": "markdown",
      "source": [
        "Customer spending"
      ],
      "metadata": {
        "id": "iKo_u2ooYNJk"
      }
    },
    {
      "cell_type": "code",
      "source": [
        "plt.figure(figsize=(8, 5))\n",
        "sns.histplot(df['Total Price'], bins=30, kde=True, color='purple')\n",
        "plt.title(\"Distribution of Total Purchase Amounts\", fontsize=14)\n",
        "plt.xlabel(\"Total Price (USD)\", fontsize=12)\n",
        "plt.ylabel(\"Frequency\", fontsize=12)\n",
        "plt.show()"
      ],
      "metadata": {
        "colab": {
          "base_uri": "https://localhost:8080/",
          "height": 492
        },
        "id": "bZ3dg62YYNcy",
        "outputId": "3aeee148-8687-4707-d98d-7c06099b1531"
      },
      "execution_count": 62,
      "outputs": [
        {
          "output_type": "display_data",
          "data": {
            "text/plain": [
              "<Figure size 800x500 with 1 Axes>"
            ],
            "image/png": "[encoded data removed]"
          },
          "metadata": {}
        }
      ]
    },
    {
      "cell_type": "markdown",
      "source": [
        "Average rating per product type"
      ],
      "metadata": {
        "id": "m9as3dTWYWG2"
      }
    },
    {
      "source": [
        "plt.figure(figsize=(10, 5))\n",
        "sns.barplot(data = df_clean, x='Product Type', y='Rating', errorbar=None, palette=\"coolwarm\",\n",
        "    legend=False ) # Changed 'data_clean' to 'data'\n",
        "plt.title(\"Average Customer Rating per Product Type\", fontsize=14)\n",
        "plt.xlabel(\"Product Type\", fontsize=12)\n",
        "plt.ylabel(\"Average Rating\", fontsize=12)\n",
        "plt.xticks(rotation=45)\n",
        "plt.show()"
      ],
      "cell_type": "code",
      "metadata": {
        "colab": {
          "base_uri": "https://localhost:8080/",
          "height": 639
        },
        "id": "j2ouWHouZQlC",
        "outputId": "2ff2c36d-6942-4cfb-eefe-94c450597e96"
      },
      "execution_count": 63,
      "outputs": [
        {
          "output_type": "stream",
          "name": "stderr",
          "text": [
            "<ipython-input-63-565c4041346f>:2: FutureWarning: \n",
            "\n",
            "Passing `palette` without assigning `hue` is deprecated and will be removed in v0.14.0. Assign the `x` variable to `hue` and set `legend=False` for the same effect.\n",
            "\n",
            "  sns.barplot(data = df_clean, x='Product Type', y='Rating', errorbar=None, palette=\"coolwarm\",\n"
          ]
        },
        {
          "output_type": "display_data",
          "data": {
            "text/plain": [
              "<Figure size 1000x500 with 1 Axes>"
            ],
            "image/png": "[encoded data removed]"
          },
          "metadata": {}
        }
      ]
    },
    {
      "cell_type": "markdown",
      "source": [
        "Payment method usage"
      ],
      "metadata": {
        "id": "Dlc1sSjmZbF6"
      }
    },
    {
      "cell_type": "code",
      "source": [
        "plt.figure(figsize=(8, 5))\n",
        "sns.countplot(data=df_clean, x='Payment Method', palette='Set2')\n",
        "plt.title(\"Payment Method Distribution\", fontsize=14)\n",
        "plt.xlabel(\"Payment Method\", fontsize=12)\n",
        "plt.ylabel(\"Count\", fontsize=12)\n",
        "plt.show()"
      ],
      "metadata": {
        "colab": {
          "base_uri": "https://localhost:8080/",
          "height": 582
        },
        "id": "6vbhFWewZbUt",
        "outputId": "6e7119a9-1d6e-4a88-a602-4d486e1ed837"
      },
      "execution_count": 64,
      "outputs": [
        {
          "output_type": "stream",
          "name": "stderr",
          "text": [
            "<ipython-input-64-9c805e6ae5e4>:2: FutureWarning: \n",
            "\n",
            "Passing `palette` without assigning `hue` is deprecated and will be removed in v0.14.0. Assign the `x` variable to `hue` and set `legend=False` for the same effect.\n",
            "\n",
            "  sns.countplot(data=df_clean, x='Payment Method', palette='Set2')\n"
          ]
        },
        {
          "output_type": "display_data",
          "data": {
            "text/plain": [
              "<Figure size 800x500 with 1 Axes>"
            ],
            "image/png": "[encoded data removed]"
          },
          "metadata": {}
        }
      ]
    },
    {
      "cell_type": "markdown",
      "source": [
        "## Hypothesis testing"
      ],
      "metadata": {
        "id": "dUXCJKL4aEJD"
      }
    },
    {
      "cell_type": "code",
      "source": [
        "from scipy.stats import ttest_ind"
      ],
      "metadata": {
        "id": "QyHwCx3VaIFh"
      },
      "execution_count": 65,
      "outputs": []
    },
    {
      "cell_type": "markdown",
      "source": [
        "Loyalty members spend more than non-members"
      ],
      "metadata": {
        "id": "AhMiYd7EaiBu"
      }
    },
    {
      "cell_type": "code",
      "source": [
        "#Split data into members and non members\n",
        "members = df[df['Loyalty Member'] == 'Yes']['Total Price']\n",
        "non_members = df[df['Loyalty Member'] == 'No']['Total Price']\n",
        "\n",
        "# Perform an independent t-test\n",
        "t_stat, p_value = ttest_ind(members, non_members, equal_var=False)\n",
        "\n",
        "print(f\"T-statistic: {t_stat:.4f}\")\n",
        "print(f\"P-value: {p_value:.4f}\")\n",
        "\n",
        "alpha = 0.05\n",
        "if p_value < alpha:\n",
        "    print(\"Reject the null hypothesis: Loyalty members spend significantly more.\")\n",
        "else:\n",
        "    print(\"Fail to reject the null hypothesis: No significant difference in spending.\")"
      ],
      "metadata": {
        "colab": {
          "base_uri": "https://localhost:8080/"
        },
        "id": "uTzfqEl5aUUC",
        "outputId": "c8e580ee-2f32-45a1-909e-fab37a241b46"
      },
      "execution_count": 66,
      "outputs": [
        {
          "output_type": "stream",
          "name": "stdout",
          "text": [
            "T-statistic: -1.2620\n",
            "P-value: 0.2070\n",
            "Fail to reject the null hypothesis: No significant difference in spending.\n"
          ]
        }
      ]
    },
    {
      "cell_type": "markdown",
      "source": [
        "Higher-priced items receive lower customer ratings."
      ],
      "metadata": {
        "id": "nHgUkvXAT9i5"
      }
    },
    {
      "cell_type": "code",
      "source": [
        "# Split the data into high and low price groups\n",
        "high_price_items = df_clean[df_clean['Unit Price'] > df_clean['Unit Price'].median()]['Rating']\n",
        "low_price_items = df_clean[df_clean['Unit Price'] <= df_clean['Unit Price'].median()]['Rating']\n",
        "\n",
        "t_stat, p_value = ttest_ind(high_price_items, low_price_items, equal_var=False)\n",
        "\n",
        "print(f\"T-statistic: {t_stat:.4f}\")\n",
        "print(f\"P-value: {p_value:.4f}\")\n",
        "\n",
        "alpha = 0.05\n",
        "if p_value < alpha:\n",
        "    print(\"Reject the null hypothesis: There is a significant difference in ratings between high and low priced items.\")\n",
        "else:\n",
        "    print(\"Fail to reject the null hypothesis: No significant difference in ratings between high and low priced items.\")\n"
      ],
      "metadata": {
        "colab": {
          "base_uri": "https://localhost:8080/"
        },
        "id": "KwAN8lt3T90R",
        "outputId": "9cddcdb6-64db-493a-a270-5997163a6400"
      },
      "execution_count": 67,
      "outputs": [
        {
          "output_type": "stream",
          "name": "stdout",
          "text": [
            "T-statistic: -35.3817\n",
            "P-value: 0.0000\n",
            "Reject the null hypothesis: There is a significant difference in ratings between high and low priced items.\n"
          ]
        }
      ]
    },
    {
      "cell_type": "markdown",
      "source": [
        "Express shipping leads to higher customer satisfaction (ratings)"
      ],
      "metadata": {
        "id": "QGfI8KnLT-d_"
      }
    },
    {
      "cell_type": "code",
      "source": [
        "# Split the data into express and other shipping groups\n",
        "express_shipping = df_clean[df_clean['Shipping Type'] == 'Express']['Rating']\n",
        "other_shipping = df_clean[df_clean['Shipping Type'] != 'Express']['Rating']\n",
        "\n",
        "t_stat, p_value = ttest_ind(express_shipping, other_shipping, equal_var=False)\n",
        "\n",
        "print(f\"T-statistic: {t_stat:.4f}\")\n",
        "print(f\"P-value: {p_value:.4f}\")\n",
        "\n",
        "alpha = 0.05\n",
        "if p_value < alpha:\n",
        "    print(\"Reject the null hypothesis: Express shipping leads to significantly higher customer satisfaction.\")\n",
        "else:\n",
        "    print(\"Fail to reject the null hypothesis: No significant difference in customer satisfaction between express and other shipping types.\")\n"
      ],
      "metadata": {
        "colab": {
          "base_uri": "https://localhost:8080/"
        },
        "id": "f652LXhgT-vm",
        "outputId": "684a5cbd-b874-4adc-8686-3885ba9d672b"
      },
      "execution_count": 68,
      "outputs": [
        {
          "output_type": "stream",
          "name": "stdout",
          "text": [
            "T-statistic: 6.4400\n",
            "P-value: 0.0000\n",
            "Reject the null hypothesis: Express shipping leads to significantly higher customer satisfaction.\n"
          ]
        }
      ]
    },
    {
      "cell_type": "markdown",
      "source": [
        "## Customer Segmentation"
      ],
      "metadata": {
        "id": "gdKzCSPPW_6Q"
      }
    },
    {
      "cell_type": "code",
      "source": [
        "from sklearn.cluster import KMeans\n",
        "\n",
        "# Feature selection\n",
        "features = ['Total Price', 'Quantity', 'Age']\n",
        "X = df_clean[features]\n",
        "\n",
        "# Apply k-means clustering\n",
        "kmeans = KMeans(n_clusters=3, random_state=0)\n",
        "df_clean['cluster'] = kmeans.fit_predict(X)\n",
        "\n",
        "# Calculate correlation matrix only for numeric columns\n",
        "correlation_matrix = df_clean.select_dtypes(include=['number']).corr()\n",
        "sns.heatmap(correlation_matrix, annot=True, cmap='coolwarm')\n",
        "plt.show()"
      ],
      "metadata": {
        "colab": {
          "base_uri": "https://localhost:8080/",
          "height": 508
        },
        "id": "X8m6ZQsJVEuG",
        "outputId": "c9c9940f-d376-483e-d5ab-4d071c97be4b"
      },
      "execution_count": 69,
      "outputs": [
        {
          "output_type": "display_data",
          "data": {
            "text/plain": [
              "<Figure size 640x480 with 2 Axes>"
            ],
            "image/png": "[encoded data removed]"
          },
          "metadata": {}
        }
      ]
    },
    {
      "cell_type": "markdown",
      "source": [
        "## Summary"
      ],
      "metadata": {
        "id": "vqL7peV9XHrn"
      }
    },
    {
      "cell_type": "markdown",
      "source": [
        "The dataset provides valuable insights into electronic sales trends and customer behavior. While the data is generally clean and usable, there are areas for potential improvement. For instance, the dataset contains missing values in the 'Gender' column which were addressed by imputing with the mode. Additionally variations in payment method labels were standardized for consistency. To further enhance the analysis by collecting additional data such as customer location, income levels and purchase frequency, could provide a more comprehensive view of customer demographics and preferences and leading to more robust segmentation and marketing strategies"
      ],
      "metadata": {
        "id": "_G5ZdgLeXHyA"
      }
    }
  ]
}